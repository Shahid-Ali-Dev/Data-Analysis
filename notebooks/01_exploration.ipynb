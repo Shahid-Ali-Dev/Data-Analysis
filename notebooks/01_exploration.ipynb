{
  "cells": [
    {
      "cell_type": "markdown",
      "metadata": {},
      "source": [
        "# Exploration notebook\n",
        "Use this for ad-hoc EDA. The production pipeline lives in `src/bmi`."
      ]
    }
  ],
  "metadata": {
    "kernelspec": {
      "display_name": "Python 3",
      "language": "python",
      "name": "python3"
    }
  },
  "nbformat": 4,
  "nbformat_minor": 5
}